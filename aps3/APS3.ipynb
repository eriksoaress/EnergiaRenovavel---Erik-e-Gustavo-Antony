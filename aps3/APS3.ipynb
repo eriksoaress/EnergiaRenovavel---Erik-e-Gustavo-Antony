{
 "cells": [
  {
   "cell_type": "code",
   "execution_count": null,
   "metadata": {},
   "outputs": [],
   "source": [
    "import pandas as pd\n",
    "import matplotlib.pyplot as plt\n",
    "import numpy as np"
   ]
  }
 ],
 "metadata": {
  "kernelspec": {
   "display_name": "Python 3.10.4 64-bit",
   "language": "python",
   "name": "python3"
  },
  "language_info": {
   "name": "python",
   "version": "3.10.4"
  },
  "orig_nbformat": 4,
  "vscode": {
   "interpreter": {
    "hash": "86d5705cc0a42d0056279ccaab26264a6baf255678a0b773d386643a733653ad"
   }
  }
 },
 "nbformat": 4,
 "nbformat_minor": 2
}
