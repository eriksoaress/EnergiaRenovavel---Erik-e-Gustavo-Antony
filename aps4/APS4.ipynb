{
 "cells": [
  {
   "cell_type": "code",
   "execution_count": 36,
   "metadata": {},
   "outputs": [],
   "source": [
    "import pandas as pd\n",
    "import matplotlib.pyplot as plt\n",
    "import numpy as np\n",
    "df = pd.read_csv('dados\\consumption_total_renewable_electricity.csv', skiprows=4)\n",
    "df = df.set_index('Country Name')\n"
   ]
  },
  {
   "cell_type": "markdown",
   "metadata": {},
   "source": [
    "Definindo a barreira para um país ser considerado avançado de acordo com uma divisão dos países pela mediana dos dados de 2019, e definindo os filtros para dividir os países em avançados e atrasados."
   ]
  },
  {
   "cell_type": "code",
   "execution_count": 43,
   "metadata": {},
   "outputs": [
    {
     "name": "stdout",
     "output_type": "stream",
     "text": [
      "18.51\n"
     ]
    }
   ],
   "source": [
    "df_2019 = df['2019']\n",
    "df_2019 = df_2019.dropna()\n",
    "mediana = df_2019.median()\n",
    "barreira_avancados = mediana\n",
    "print(barreira_avancados)\n"
   ]
  },
  {
   "cell_type": "markdown",
   "metadata": {},
   "source": [
    "paises_do_mercosul = ['Brazil', 'Argentina', 'Uruguay', 'Paraguay', 'Venezuela, RB']\n",
    "paises_do_usmca = ['United States', 'Mexico', 'Canada']"
   ]
  },
  {
   "cell_type": "code",
   "execution_count": 45,
   "metadata": {},
   "outputs": [],
   "source": [
    "paises_do_mercosul = ['Brazil', 'Argentina', 'Uruguay', 'Paraguay', 'Venezuela, RB']\n",
    "paises_do_usmca = ['United States', 'Mexico', 'Canada']\n",
    "paises_avancados_mercosul = []\n",
    "paises_avancados_usmca = []\n",
    "for pais in paises_do_mercosul:\n",
    "    if df_2019.loc[pais] >= barreira_avancados:\n",
    "        paises_avancados_mercosul.append(pais)\n",
    "for pais in paises_do_usmca:\n",
    "    if df_2019.loc[pais] >= barreira_avancados:\n",
    "        paises_avancados_usmca.append(pais)"
   ]
  },
  {
   "cell_type": "code",
   "execution_count": 46,
   "metadata": {},
   "outputs": [
    {
     "name": "stdout",
     "output_type": "stream",
     "text": [
      "A probabilidade de um país ser avançado dado que é do mercosul é igual a: 0.6\n",
      "A probabilidade de um país ser avançado dado que é do umsca é igual a: 0.3333333333333333\n"
     ]
    }
   ],
   "source": [
    "probabilidade_avancado_dado_mercosul = len(paises_avancados_mercosul)/len(paises_do_mercosul)\n",
    "probabilidade_avancado_dado_usmca = len(paises_avancados_usmca)/len(paises_do_usmca)\n",
    "print(f'A probabilidade de um país ser avançado dado que é do mercosul é igual a: {probabilidade_avancado_dado_mercosul}')\n",
    "print(f'A probabilidade de um país ser avançado dado que é do umsca é igual a: {probabilidade_avancado_dado_usmca}')\n"
   ]
  },
  {
   "cell_type": "markdown",
   "metadata": {},
   "source": [
    "Iniciando o bootstrap e criando as amostras\n"
   ]
  },
  {
   "cell_type": "code",
   "execution_count": 48,
   "metadata": {},
   "outputs": [
    {
     "data": {
      "text/plain": [
       "(0.5933900000000001, 0.6099)"
      ]
     },
     "execution_count": 48,
     "metadata": {},
     "output_type": "execute_result"
    }
   ],
   "source": [
    "amostra_mercosul = np.array([1,1,1,0,0])\n",
    "amostra_usmca = np.array([1,0,0])\n",
    "\n",
    "def reamostrar_varias_vezes(amostras, n, m):\n",
    "    # Coloque sua função aqui\n",
    "    medias = []\n",
    "    for i in range(n):\n",
    "        amostras_ = np.random.choice(amostras, size=m, replace=True)\n",
    "        medias.append(np.mean(amostras_))\n",
    "    return np.percentile(medias, 5), np.percentile(medias, 95)\n",
    "\n",
    "print(f'Intervalo do mercosul: {reamostrar_varias_vezes(amostra_mercosul, 100, 10000)}')\n",
    "print(f'Intervalo do umsca: {reamostrar_varias_vezes(amostra_usmca, 100, 10000)}')"
   ]
  }
 ],
 "metadata": {
  "kernelspec": {
   "display_name": "Python 3.10.4 64-bit",
   "language": "python",
   "name": "python3"
  },
  "language_info": {
   "codemirror_mode": {
    "name": "ipython",
    "version": 3
   },
   "file_extension": ".py",
   "mimetype": "text/x-python",
   "name": "python",
   "nbconvert_exporter": "python",
   "pygments_lexer": "ipython3",
   "version": "3.10.4"
  },
  "orig_nbformat": 4,
  "vscode": {
   "interpreter": {
    "hash": "86d5705cc0a42d0056279ccaab26264a6baf255678a0b773d386643a733653ad"
   }
  }
 },
 "nbformat": 4,
 "nbformat_minor": 2
}
