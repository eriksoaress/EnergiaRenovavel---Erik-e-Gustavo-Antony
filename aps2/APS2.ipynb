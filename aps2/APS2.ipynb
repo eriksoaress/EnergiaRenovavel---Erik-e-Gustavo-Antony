{
 "cells": [
  {
   "cell_type": "code",
   "execution_count": 166,
   "metadata": {},
   "outputs": [],
   "source": [
    "import pandas as pd\n",
    "import matplotlib.pyplot as plt\n",
    "df_exports = pd.read_csv('dados/high_technology_exports.csv', skiprows=4)\n",
    "df_energia = pd.read_csv('dados/consumption_total_renewable_electricity.csv', skiprows=4)\n",
    "\n",
    "iceland = df_energia['Country Name'] == 'Iceland'\n",
    "df_iceland_energia = df_energia.loc[iceland]\n",
    "df_iceland_export = df_exports.loc[iceland]\n",
    "\n",
    "brazil = df_energia['Country Name'] == 'Brazil'\n",
    "df_brazil_energia = df_energia.loc[brazil]\n",
    "df_brazil_export = df_exports.loc[brazil]\n",
    "\n",
    "argentina = df_energia['Country Name'] == 'Argentina'\n",
    "df_argentina_energia = df_energia.loc[argentina]\n",
    "df_argentina_export = df_exports.loc[argentina]"
   ]
  },
  {
   "cell_type": "code",
   "execution_count": 167,
   "metadata": {},
   "outputs": [],
   "source": [
    "argentina_energia = []\n",
    "argentina_export = []\n",
    "brazil_energia = []\n",
    "brazil_exports = []\n",
    "iceland_energia = []\n",
    "iceland_exports = []\n",
    "\n",
    "anos = list(range(2008, 2022))\n",
    "for ano in range(2008,2022):\n",
    "    argentina_energia.append(df_argentina_energia[str(ano)])\n",
    "    argentina_export.append(df_argentina_export[str(ano)])\n",
    "    brazil_energia.append(df_brazil_energia[str(ano)])\n",
    "    brazil_exports.append(df_brazil_export[str(ano)])\n",
    "    iceland_energia.append(df_iceland_energia[str(ano)])\n",
    "    iceland_exports.append(df_iceland_export[str(ano)])\n"
   ]
  },
  {
   "cell_type": "code",
   "execution_count": 168,
   "metadata": {},
   "outputs": [
    {
     "data": {
      "text/plain": [
       "[<matplotlib.lines.Line2D at 0x16780a6b280>]"
      ]
     },
     "execution_count": 168,
     "metadata": {},
     "output_type": "execute_result"
    },
    {
     "data": {
      "image/png": "[encoded data removed]",
      "text/plain": [
       "<Figure size 720x432 with 1 Axes>"
      ]
     },
     "metadata": {
      "needs_background": "light"
     },
     "output_type": "display_data"
    }
   ],
   "source": [
    "plt.figure(figsize=(10,6))\n",
    "plt.plot(anos, brazil_energia, color='g')\n",
    "plt.plot(anos, iceland_energia, color='r')\n",
    "plt.plot(anos, argentina_energia, color='b')\n",
    "plt.legend(['Brasil', 'Islândia', 'Argentina'])\n",
    "plt.plot(anos, brazil_exports, color='g', linestyle='dashed')\n",
    "plt.plot(anos, iceland_exports, color='r', linestyle='dashed')\n",
    "plt.plot(anos, argentina_export, color='b', linestyle='dashed')\n"
   ]
  },
  {
   "cell_type": "code",
   "execution_count": 169,
   "metadata": {},
   "outputs": [],
   "source": [
    "df_energia = pd.read_csv('dados\\consumption_total_renewable_electricity.csv', skiprows=3)\n",
    "df_tech = pd.read_csv('dados\\high_technology_exports.csv', skiprows=3)\n",
    "\n",
    "df_energia\n",
    "df_energia = df_energia.set_index('Country Name')\n",
    "df_tech = df_tech.set_index('Country Name')\n"
   ]
  },
  {
   "cell_type": "code",
   "execution_count": 174,
   "metadata": {},
   "outputs": [
    {
     "data": {
      "text/html": [
       "<div>\n",
       "<style scoped>\n",
       "    .dataframe tbody tr th:only-of-type {\n",
       "        vertical-align: middle;\n",
       "    }\n",
       "\n",
       "    .dataframe tbody tr th {\n",
       "        vertical-align: top;\n",
       "    }\n",
       "\n",
       "    .dataframe thead th {\n",
       "        text-align: right;\n",
       "    }\n",
       "</style>\n",
       "<table border=\"1\" class=\"dataframe\">\n",
       "  <thead>\n",
       "    <tr style=\"text-align: right;\">\n",
       "      <th></th>\n",
       "      <th>0</th>\n",
       "      <th>1</th>\n",
       "      <th>2</th>\n",
       "      <th>3</th>\n",
       "      <th>4</th>\n",
       "      <th>5</th>\n",
       "      <th>6</th>\n",
       "      <th>7</th>\n",
       "      <th>8</th>\n",
       "      <th>9</th>\n",
       "      <th>10</th>\n",
       "      <th>11</th>\n",
       "      <th>12</th>\n",
       "      <th>13</th>\n",
       "    </tr>\n",
       "  </thead>\n",
       "  <tbody>\n",
       "    <tr>\n",
       "      <th>0</th>\n",
       "      <td>47.040000</td>\n",
       "      <td>48.92000</td>\n",
       "      <td>46.810000</td>\n",
       "      <td>45.2600</td>\n",
       "      <td>43.490000</td>\n",
       "      <td>42.320000</td>\n",
       "      <td>41.710000</td>\n",
       "      <td>43.620000</td>\n",
       "      <td>45.460000</td>\n",
       "      <td>45.330000</td>\n",
       "      <td>46.950000</td>\n",
       "      <td>47.570000</td>\n",
       "      <td>NaN</td>\n",
       "      <td>NaN</td>\n",
       "    </tr>\n",
       "    <tr>\n",
       "      <th>1</th>\n",
       "      <td>12.757724</td>\n",
       "      <td>14.75822</td>\n",
       "      <td>12.589453</td>\n",
       "      <td>11.1405</td>\n",
       "      <td>11.887213</td>\n",
       "      <td>11.969717</td>\n",
       "      <td>12.371055</td>\n",
       "      <td>14.485715</td>\n",
       "      <td>15.999959</td>\n",
       "      <td>14.311719</td>\n",
       "      <td>14.743912</td>\n",
       "      <td>14.066459</td>\n",
       "      <td>11.350048</td>\n",
       "      <td>NaN</td>\n",
       "    </tr>\n",
       "  </tbody>\n",
       "</table>\n",
       "</div>"
      ],
      "text/plain": [
       "          0         1          2        3          4          5          6   \\\n",
       "0  47.040000  48.92000  46.810000  45.2600  43.490000  42.320000  41.710000   \n",
       "1  12.757724  14.75822  12.589453  11.1405  11.887213  11.969717  12.371055   \n",
       "\n",
       "          7          8          9          10         11         12  13  \n",
       "0  43.620000  45.460000  45.330000  46.950000  47.570000        NaN NaN  \n",
       "1  14.485715  15.999959  14.311719  14.743912  14.066459  11.350048 NaN  "
      ]
     },
     "execution_count": 174,
     "metadata": {},
     "output_type": "execute_result"
    }
   ],
   "source": [
    "\n",
    "df_energia.head()\n",
    "\n",
    "def faz_lista_energia(nome_do_pais):\n",
    "    lista = []\n",
    "    for ano in list(range(2008,2022)):    \n",
    "        df = df_energia[str(ano)]\n",
    "        num = df.loc[nome_do_pais]\n",
    "        lista.append(num)\n",
    "    return lista\n",
    "\n",
    "def faz_lista_tech(nome_do_pais):\n",
    "    lista = []\n",
    "    for ano in list(range(2008,2022)):    \n",
    "        df = df_tech[str(ano)]\n",
    "        num = df.loc[nome_do_pais]\n",
    "        lista.append(num)\n",
    "    return lista\n",
    "\n",
    "energia_brasil = faz_lista_energia('Brazil')\n",
    "energia_argentina = faz_lista_energia('Argentina')\n",
    "energia_islandia = faz_lista_energia('Iceland')\n",
    "tech_brasil = faz_lista_tech('Brazil')\n",
    "tech_argentina = faz_lista_tech('Argentina')\n",
    "tech_islandia = faz_lista_tech('Iceland')\n",
    "\n",
    "def cria_df(lista_energia, lista_tech):\n",
    "    df = pd.DataFrame([lista_energia, lista_tech])\n",
    "    df = df.transpose()\n",
    "    df.columns=['Energia',\"Tecnologia\"]\n",
    "    return df\n",
    "\n",
    "df_brasil = cria_df(energia_brasil,tech_brasil)\n",
    "df_argentina = cria_df(energia_argentina,tech_argentina)\n",
    "df_islandia = cria_df(energia_islandia,tech_islandia)\n"
   ]
  }
 ],
 "metadata": {
  "kernelspec": {
   "display_name": "Python 3.10.2 64-bit",
   "language": "python",
   "name": "python3"
  },
  "language_info": {
   "codemirror_mode": {
    "name": "ipython",
    "version": 3
   },
   "file_extension": ".py",
   "mimetype": "text/x-python",
   "name": "python",
   "nbconvert_exporter": "python",
   "pygments_lexer": "ipython3",
   "version": "3.10.2"
  },
  "orig_nbformat": 4,
  "vscode": {
   "interpreter": {
    "hash": "dfbee171af5bf54f48e46164da8f7b4d9e64d5dcd5d9c7af4904d8b6a4287236"
   }
  }
 },
 "nbformat": 4,
 "nbformat_minor": 2
}
