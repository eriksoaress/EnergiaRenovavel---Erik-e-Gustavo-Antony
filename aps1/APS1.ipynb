{
 "cells": [
  {
   "cell_type": "code",
   "execution_count": null,
   "metadata": {},
   "outputs": [],
   "source": [
    "import pandas as pd\n",
    "df_production = pd.read_csv(\"dados\\produc_total_renewable_electricity.csv\")\n",
    "df_consumption = pd.read_csv(\"dados\\consumption_total_renewable_electricity.csv\")\n",
    "\n",
    "df_production"
   ]
  }
 ],
 "metadata": {
  "kernelspec": {
   "display_name": "Python 3.10.4 64-bit",
   "language": "python",
   "name": "python3"
  },
  "language_info": {
   "name": "python",
   "version": "3.10.4"
  },
  "orig_nbformat": 4,
  "vscode": {
   "interpreter": {
    "hash": "86d5705cc0a42d0056279ccaab26264a6baf255678a0b773d386643a733653ad"
   }
  }
 },
 "nbformat": 4,
 "nbformat_minor": 2
}
