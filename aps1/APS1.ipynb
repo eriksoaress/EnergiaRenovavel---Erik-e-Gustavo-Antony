{
 "cells": [
  {
   "cell_type": "code",
   "execution_count": null,
   "metadata": {},
   "outputs": [],
   "source": [
    "import pandas as pd\n",
    "df_production = pd.read_csv(\"dados\\produc_total_renewable_electricity.csv\")\n",
    "df_consumption = pd.read_csv(\"dados\\consumption_total_renewable_electricity.csv\")\n",
    "\n",
    "df_production"
   ]
  }
 ],
 "metadata": {
  "kernelspec": {
   "display_name": "Python 3.10.2 64-bit",
   "language": "python",
   "name": "python3"
  },
  "language_info": {
   "name": "python",
   "version": "3.10.2"
  },
  "orig_nbformat": 4,
  "vscode": {
   "interpreter": {
    "hash": "dfbee171af5bf54f48e46164da8f7b4d9e64d5dcd5d9c7af4904d8b6a4287236"
   }
  }
 },
 "nbformat": 4,
 "nbformat_minor": 2
}
