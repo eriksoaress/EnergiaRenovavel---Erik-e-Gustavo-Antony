{
 "cells": [
  {
   "cell_type": "code",
   "execution_count": 14,
   "metadata": {},
   "outputs": [
    {
     "name": "stdout",
     "output_type": "stream",
     "text": [
      "                    Country Name Country Code  \\\n",
      "0                          Aruba          ABW   \n",
      "1    Africa Eastern and Southern          AFE   \n",
      "2                    Afghanistan          AFG   \n",
      "3     Africa Western and Central          AFW   \n",
      "4                         Angola          AGO   \n",
      "..                           ...          ...   \n",
      "261                       Kosovo          XKX   \n",
      "262                  Yemen, Rep.          YEM   \n",
      "263                 South Africa          ZAF   \n",
      "264                       Zambia          ZMB   \n",
      "265                     Zimbabwe          ZWE   \n",
      "\n",
      "                                        Indicator Name  Indicator Code  1960  \\\n",
      "0    Renewable energy consumption (% of total final...  EG.FEC.RNEW.ZS   NaN   \n",
      "1    Renewable energy consumption (% of total final...  EG.FEC.RNEW.ZS   NaN   \n",
      "2    Renewable energy consumption (% of total final...  EG.FEC.RNEW.ZS   NaN   \n",
      "3    Renewable energy consumption (% of total final...  EG.FEC.RNEW.ZS   NaN   \n",
      "4    Renewable energy consumption (% of total final...  EG.FEC.RNEW.ZS   NaN   \n",
      "..                                                 ...             ...   ...   \n",
      "261  Renewable energy consumption (% of total final...  EG.FEC.RNEW.ZS   NaN   \n",
      "262  Renewable energy consumption (% of total final...  EG.FEC.RNEW.ZS   NaN   \n",
      "263  Renewable energy consumption (% of total final...  EG.FEC.RNEW.ZS   NaN   \n",
      "264  Renewable energy consumption (% of total final...  EG.FEC.RNEW.ZS   NaN   \n",
      "265  Renewable energy consumption (% of total final...  EG.FEC.RNEW.ZS   NaN   \n",
      "\n",
      "     1961  1962  1963  1964  1965  ...       2013       2014       2015  \\\n",
      "0     NaN   NaN   NaN   NaN   NaN  ...   6.890000   6.930000   6.730000   \n",
      "1     NaN   NaN   NaN   NaN   NaN  ...  60.378305  60.712292  61.106397   \n",
      "2     NaN   NaN   NaN   NaN   NaN  ...  16.860000  18.930000  17.530000   \n",
      "3     NaN   NaN   NaN   NaN   NaN  ...  77.445937  76.190412  76.752857   \n",
      "4     NaN   NaN   NaN   NaN   NaN  ...  47.950000  48.230000  47.840000   \n",
      "..    ...   ...   ...   ...   ...  ...        ...        ...        ...   \n",
      "261   NaN   NaN   NaN   NaN   NaN  ...  20.930000  21.380000  20.370000   \n",
      "262   NaN   NaN   NaN   NaN   NaN  ...   0.760000   0.760000   1.960000   \n",
      "263   NaN   NaN   NaN   NaN   NaN  ...   9.770000   9.850000  10.280000   \n",
      "264   NaN   NaN   NaN   NaN   NaN  ...  84.560000  83.770000  83.090000   \n",
      "265   NaN   NaN   NaN   NaN   NaN  ...  78.870000  80.270000  80.820000   \n",
      "\n",
      "      2016   2017   2018   2019  2020  2021  Unnamed: 66  \n",
      "0     6.99   6.70   8.02   7.48   NaN   NaN          NaN  \n",
      "1      NaN    NaN    NaN    NaN   NaN   NaN          NaN  \n",
      "2    19.92  19.21  17.96  18.51   NaN   NaN          NaN  \n",
      "3      NaN    NaN    NaN    NaN   NaN   NaN          NaN  \n",
      "4    49.03  56.25  57.36  54.69   NaN   NaN          NaN  \n",
      "..     ...    ...    ...    ...   ...   ...          ...  \n",
      "261  26.52  25.26  27.00  26.10   NaN   NaN          NaN  \n",
      "262   2.48   2.80   3.60   3.11   NaN   NaN          NaN  \n",
      "263  10.53  10.45  10.19  10.50   NaN   NaN          NaN  \n",
      "264  83.07  81.89  82.28  84.50   NaN   NaN          NaN  \n",
      "265  81.90  82.46  80.23  81.50   NaN   NaN          NaN  \n",
      "\n",
      "[266 rows x 67 columns]\n"
     ]
    }
   ],
   "source": [
    "import pandas as pd\n",
    "df_production = pd.read_csv(\"dados\\produc_total_renewable_electricity.csv\", skiprows=4)\n",
    "df_consumption = pd.read_csv(\"dados\\consumption_total_renewable_electricity.csv\", skiprows=4)\n",
    "#\n",
    "print(df_consumption)"
   ]
  },
  {
   "cell_type": "code",
   "execution_count": null,
   "metadata": {},
   "outputs": [],
   "source": []
  },
  {
   "cell_type": "code",
   "execution_count": null,
   "metadata": {},
   "outputs": [],
   "source": []
  }
 ],
 "metadata": {
  "kernelspec": {
   "display_name": "Python 3.10.2 64-bit",
   "language": "python",
   "name": "python3"
  },
  "language_info": {
   "name": "python",
   "version": "3.10.2"
  },
  "orig_nbformat": 4,
  "vscode": {
   "interpreter": {
    "hash": "dfbee171af5bf54f48e46164da8f7b4d9e64d5dcd5d9c7af4904d8b6a4287236"
   }
  }
 },
 "nbformat": 4,
 "nbformat_minor": 2
}
